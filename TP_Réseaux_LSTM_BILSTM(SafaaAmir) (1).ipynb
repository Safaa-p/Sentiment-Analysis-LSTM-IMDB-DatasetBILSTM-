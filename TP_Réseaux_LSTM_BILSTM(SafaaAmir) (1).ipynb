{
  "nbformat": 4,
  "nbformat_minor": 0,
  "metadata": {
    "colab": {
      "provenance": [],
      "toc_visible": true
    },
    "kernelspec": {
      "name": "python3",
      "display_name": "Python 3"
    },
    "language_info": {
      "name": "python"
    }
  },
  "cells": [
    {
      "cell_type": "markdown",
      "source": [
        "# **Partie I : Implémenter un réseau LSTM pour l'analyse de sentiment à l'aide d'un ensemble de donnéesau format CSV.**"
      ],
      "metadata": {
        "id": "ZGJcOD0hezmH"
      }
    },
    {
      "cell_type": "markdown",
      "source": [
        "#  Préparation de l’environnement du travail"
      ],
      "metadata": {
        "id": "FapVOmCiesc5"
      }
    },
    {
      "cell_type": "code",
      "execution_count": null,
      "metadata": {
        "id": "Pf3cmWm7cl9D"
      },
      "outputs": [],
      "source": [
        "import numpy as np\n",
        "import pandas as pd\n",
        "import matplotlib.pyplot as plt\n",
        "from sklearn.model_selection import train_test_split\n",
        "from tensorflow.keras.preprocessing.text import Tokenizer\n",
        "from tensorflow.keras.models import Sequential\n",
        "from tensorflow.keras.layers import SimpleRNN, Dense, Embedding, LSTM\n",
        "import csv\n",
        "import string\n",
        "from nltk.corpus import stopwords\n",
        "import nltk\n",
        "from tensorflow.keras.preprocessing.sequence import pad_sequences\n",
        "from sklearn.preprocessing import LabelEncoder\n",
        "from tensorflow.keras.optimizers.legacy import Adam\n",
        "from sklearn.metrics import accuracy_score, precision_score, recall_score, f1_score, confusion_matrix, classification_report\n",
        "from keras.layers import Activation"
      ]
    },
    {
      "cell_type": "code",
      "source": [
        "nltk.download('stopwords')"
      ],
      "metadata": {
        "colab": {
          "base_uri": "https://localhost:8080/"
        },
        "id": "ExtDrNl9gGcu",
        "outputId": "80419c40-2fc1-491d-dc68-34c8884c2fc5"
      },
      "execution_count": null,
      "outputs": [
        {
          "output_type": "stream",
          "name": "stderr",
          "text": [
            "[nltk_data] Downloading package stopwords to /root/nltk_data...\n",
            "[nltk_data]   Package stopwords is already up-to-date!\n"
          ]
        },
        {
          "output_type": "execute_result",
          "data": {
            "text/plain": [
              "True"
            ]
          },
          "metadata": {},
          "execution_count": 2
        }
      ]
    },
    {
      "cell_type": "code",
      "source": [
        "nltk.download(\"wordnet\")"
      ],
      "metadata": {
        "colab": {
          "base_uri": "https://localhost:8080/"
        },
        "id": "Zsj2m_MYgHRD",
        "outputId": "fcb226ed-0127-4c97-babe-a8ce24a61101"
      },
      "execution_count": null,
      "outputs": [
        {
          "output_type": "stream",
          "name": "stderr",
          "text": [
            "[nltk_data] Downloading package wordnet to /root/nltk_data...\n",
            "[nltk_data]   Package wordnet is already up-to-date!\n"
          ]
        },
        {
          "output_type": "execute_result",
          "data": {
            "text/plain": [
              "True"
            ]
          },
          "metadata": {},
          "execution_count": 3
        }
      ]
    },
    {
      "cell_type": "code",
      "source": [
        "nltk.download('punkt')"
      ],
      "metadata": {
        "colab": {
          "base_uri": "https://localhost:8080/"
        },
        "id": "ZJ4grHjrgJ9h",
        "outputId": "418447b0-41f5-48c4-8de8-c9ff09403122"
      },
      "execution_count": null,
      "outputs": [
        {
          "output_type": "stream",
          "name": "stderr",
          "text": [
            "[nltk_data] Downloading package punkt to /root/nltk_data...\n",
            "[nltk_data]   Package punkt is already up-to-date!\n"
          ]
        },
        {
          "output_type": "execute_result",
          "data": {
            "text/plain": [
              "True"
            ]
          },
          "metadata": {},
          "execution_count": 4
        }
      ]
    },
    {
      "cell_type": "markdown",
      "source": [
        "# Chargement et Exploration du Jeu de Données"
      ],
      "metadata": {
        "id": "dQlpYMOLfBVh"
      }
    },
    {
      "cell_type": "code",
      "source": [
        "df=pd.read_csv(\"IMDB Dataset.csv\")\n",
        "df"
      ],
      "metadata": {
        "colab": {
          "base_uri": "https://localhost:8080/",
          "height": 424
        },
        "id": "y1ARUFw7fC0w",
        "outputId": "97f497ec-3833-440c-924c-0a3e7d44f83f"
      },
      "execution_count": null,
      "outputs": [
        {
          "output_type": "execute_result",
          "data": {
            "text/plain": [
              "                                                  review sentiment\n",
              "0      One of the other reviewers has mentioned that ...  positive\n",
              "1      A wonderful little production. <br /><br />The...  positive\n",
              "2      I thought this was a wonderful way to spend ti...  positive\n",
              "3      Basically there's a family where a little boy ...  negative\n",
              "4      Petter Mattei's \"Love in the Time of Money\" is...  positive\n",
              "...                                                  ...       ...\n",
              "49995  I thought this movie did a down right good job...  positive\n",
              "49996  Bad plot, bad dialogue, bad acting, idiotic di...  negative\n",
              "49997  I am a Catholic taught in parochial elementary...  negative\n",
              "49998  I'm going to have to disagree with the previou...  negative\n",
              "49999  No one expects the Star Trek movies to be high...  negative\n",
              "\n",
              "[50000 rows x 2 columns]"
            ],
            "text/html": [
              "\n",
              "  <div id=\"df-231be4a3-c8dc-43ca-9504-8df379f21adb\" class=\"colab-df-container\">\n",
              "    <div>\n",
              "<style scoped>\n",
              "    .dataframe tbody tr th:only-of-type {\n",
              "        vertical-align: middle;\n",
              "    }\n",
              "\n",
              "    .dataframe tbody tr th {\n",
              "        vertical-align: top;\n",
              "    }\n",
              "\n",
              "    .dataframe thead th {\n",
              "        text-align: right;\n",
              "    }\n",
              "</style>\n",
              "<table border=\"1\" class=\"dataframe\">\n",
              "  <thead>\n",
              "    <tr style=\"text-align: right;\">\n",
              "      <th></th>\n",
              "      <th>review</th>\n",
              "      <th>sentiment</th>\n",
              "    </tr>\n",
              "  </thead>\n",
              "  <tbody>\n",
              "    <tr>\n",
              "      <th>0</th>\n",
              "      <td>One of the other reviewers has mentioned that ...</td>\n",
              "      <td>positive</td>\n",
              "    </tr>\n",
              "    <tr>\n",
              "      <th>1</th>\n",
              "      <td>A wonderful little production. &lt;br /&gt;&lt;br /&gt;The...</td>\n",
              "      <td>positive</td>\n",
              "    </tr>\n",
              "    <tr>\n",
              "      <th>2</th>\n",
              "      <td>I thought this was a wonderful way to spend ti...</td>\n",
              "      <td>positive</td>\n",
              "    </tr>\n",
              "    <tr>\n",
              "      <th>3</th>\n",
              "      <td>Basically there's a family where a little boy ...</td>\n",
              "      <td>negative</td>\n",
              "    </tr>\n",
              "    <tr>\n",
              "      <th>4</th>\n",
              "      <td>Petter Mattei's \"Love in the Time of Money\" is...</td>\n",
              "      <td>positive</td>\n",
              "    </tr>\n",
              "    <tr>\n",
              "      <th>...</th>\n",
              "      <td>...</td>\n",
              "      <td>...</td>\n",
              "    </tr>\n",
              "    <tr>\n",
              "      <th>49995</th>\n",
              "      <td>I thought this movie did a down right good job...</td>\n",
              "      <td>positive</td>\n",
              "    </tr>\n",
              "    <tr>\n",
              "      <th>49996</th>\n",
              "      <td>Bad plot, bad dialogue, bad acting, idiotic di...</td>\n",
              "      <td>negative</td>\n",
              "    </tr>\n",
              "    <tr>\n",
              "      <th>49997</th>\n",
              "      <td>I am a Catholic taught in parochial elementary...</td>\n",
              "      <td>negative</td>\n",
              "    </tr>\n",
              "    <tr>\n",
              "      <th>49998</th>\n",
              "      <td>I'm going to have to disagree with the previou...</td>\n",
              "      <td>negative</td>\n",
              "    </tr>\n",
              "    <tr>\n",
              "      <th>49999</th>\n",
              "      <td>No one expects the Star Trek movies to be high...</td>\n",
              "      <td>negative</td>\n",
              "    </tr>\n",
              "  </tbody>\n",
              "</table>\n",
              "<p>50000 rows × 2 columns</p>\n",
              "</div>\n",
              "    <div class=\"colab-df-buttons\">\n",
              "\n",
              "  <div class=\"colab-df-container\">\n",
              "    <button class=\"colab-df-convert\" onclick=\"convertToInteractive('df-231be4a3-c8dc-43ca-9504-8df379f21adb')\"\n",
              "            title=\"Convert this dataframe to an interactive table.\"\n",
              "            style=\"display:none;\">\n",
              "\n",
              "  <svg xmlns=\"http://www.w3.org/2000/svg\" height=\"24px\" viewBox=\"0 -960 960 960\">\n",
              "    <path d=\"M120-120v-720h720v720H120Zm60-500h600v-160H180v160Zm220 220h160v-160H400v160Zm0 220h160v-160H400v160ZM180-400h160v-160H180v160Zm440 0h160v-160H620v160ZM180-180h160v-160H180v160Zm440 0h160v-160H620v160Z\"/>\n",
              "  </svg>\n",
              "    </button>\n",
              "\n",
              "  <style>\n",
              "    .colab-df-container {\n",
              "      display:flex;\n",
              "      gap: 12px;\n",
              "    }\n",
              "\n",
              "    .colab-df-convert {\n",
              "      background-color: #E8F0FE;\n",
              "      border: none;\n",
              "      border-radius: 50%;\n",
              "      cursor: pointer;\n",
              "      display: none;\n",
              "      fill: #1967D2;\n",
              "      height: 32px;\n",
              "      padding: 0 0 0 0;\n",
              "      width: 32px;\n",
              "    }\n",
              "\n",
              "    .colab-df-convert:hover {\n",
              "      background-color: #E2EBFA;\n",
              "      box-shadow: 0px 1px 2px rgba(60, 64, 67, 0.3), 0px 1px 3px 1px rgba(60, 64, 67, 0.15);\n",
              "      fill: #174EA6;\n",
              "    }\n",
              "\n",
              "    .colab-df-buttons div {\n",
              "      margin-bottom: 4px;\n",
              "    }\n",
              "\n",
              "    [theme=dark] .colab-df-convert {\n",
              "      background-color: #3B4455;\n",
              "      fill: #D2E3FC;\n",
              "    }\n",
              "\n",
              "    [theme=dark] .colab-df-convert:hover {\n",
              "      background-color: #434B5C;\n",
              "      box-shadow: 0px 1px 3px 1px rgba(0, 0, 0, 0.15);\n",
              "      filter: drop-shadow(0px 1px 2px rgba(0, 0, 0, 0.3));\n",
              "      fill: #FFFFFF;\n",
              "    }\n",
              "  </style>\n",
              "\n",
              "    <script>\n",
              "      const buttonEl =\n",
              "        document.querySelector('#df-231be4a3-c8dc-43ca-9504-8df379f21adb button.colab-df-convert');\n",
              "      buttonEl.style.display =\n",
              "        google.colab.kernel.accessAllowed ? 'block' : 'none';\n",
              "\n",
              "      async function convertToInteractive(key) {\n",
              "        const element = document.querySelector('#df-231be4a3-c8dc-43ca-9504-8df379f21adb');\n",
              "        const dataTable =\n",
              "          await google.colab.kernel.invokeFunction('convertToInteractive',\n",
              "                                                    [key], {});\n",
              "        if (!dataTable) return;\n",
              "\n",
              "        const docLinkHtml = 'Like what you see? Visit the ' +\n",
              "          '<a target=\"_blank\" href=https://colab.research.google.com/notebooks/data_table.ipynb>data table notebook</a>'\n",
              "          + ' to learn more about interactive tables.';\n",
              "        element.innerHTML = '';\n",
              "        dataTable['output_type'] = 'display_data';\n",
              "        await google.colab.output.renderOutput(dataTable, element);\n",
              "        const docLink = document.createElement('div');\n",
              "        docLink.innerHTML = docLinkHtml;\n",
              "        element.appendChild(docLink);\n",
              "      }\n",
              "    </script>\n",
              "  </div>\n",
              "\n",
              "\n",
              "<div id=\"df-7522caa8-81be-4e5a-80ea-513b00818c6e\">\n",
              "  <button class=\"colab-df-quickchart\" onclick=\"quickchart('df-7522caa8-81be-4e5a-80ea-513b00818c6e')\"\n",
              "            title=\"Suggest charts\"\n",
              "            style=\"display:none;\">\n",
              "\n",
              "<svg xmlns=\"http://www.w3.org/2000/svg\" height=\"24px\"viewBox=\"0 0 24 24\"\n",
              "     width=\"24px\">\n",
              "    <g>\n",
              "        <path d=\"M19 3H5c-1.1 0-2 .9-2 2v14c0 1.1.9 2 2 2h14c1.1 0 2-.9 2-2V5c0-1.1-.9-2-2-2zM9 17H7v-7h2v7zm4 0h-2V7h2v10zm4 0h-2v-4h2v4z\"/>\n",
              "    </g>\n",
              "</svg>\n",
              "  </button>\n",
              "\n",
              "<style>\n",
              "  .colab-df-quickchart {\n",
              "      --bg-color: #E8F0FE;\n",
              "      --fill-color: #1967D2;\n",
              "      --hover-bg-color: #E2EBFA;\n",
              "      --hover-fill-color: #174EA6;\n",
              "      --disabled-fill-color: #AAA;\n",
              "      --disabled-bg-color: #DDD;\n",
              "  }\n",
              "\n",
              "  [theme=dark] .colab-df-quickchart {\n",
              "      --bg-color: #3B4455;\n",
              "      --fill-color: #D2E3FC;\n",
              "      --hover-bg-color: #434B5C;\n",
              "      --hover-fill-color: #FFFFFF;\n",
              "      --disabled-bg-color: #3B4455;\n",
              "      --disabled-fill-color: #666;\n",
              "  }\n",
              "\n",
              "  .colab-df-quickchart {\n",
              "    background-color: var(--bg-color);\n",
              "    border: none;\n",
              "    border-radius: 50%;\n",
              "    cursor: pointer;\n",
              "    display: none;\n",
              "    fill: var(--fill-color);\n",
              "    height: 32px;\n",
              "    padding: 0;\n",
              "    width: 32px;\n",
              "  }\n",
              "\n",
              "  .colab-df-quickchart:hover {\n",
              "    background-color: var(--hover-bg-color);\n",
              "    box-shadow: 0 1px 2px rgba(60, 64, 67, 0.3), 0 1px 3px 1px rgba(60, 64, 67, 0.15);\n",
              "    fill: var(--button-hover-fill-color);\n",
              "  }\n",
              "\n",
              "  .colab-df-quickchart-complete:disabled,\n",
              "  .colab-df-quickchart-complete:disabled:hover {\n",
              "    background-color: var(--disabled-bg-color);\n",
              "    fill: var(--disabled-fill-color);\n",
              "    box-shadow: none;\n",
              "  }\n",
              "\n",
              "  .colab-df-spinner {\n",
              "    border: 2px solid var(--fill-color);\n",
              "    border-color: transparent;\n",
              "    border-bottom-color: var(--fill-color);\n",
              "    animation:\n",
              "      spin 1s steps(1) infinite;\n",
              "  }\n",
              "\n",
              "  @keyframes spin {\n",
              "    0% {\n",
              "      border-color: transparent;\n",
              "      border-bottom-color: var(--fill-color);\n",
              "      border-left-color: var(--fill-color);\n",
              "    }\n",
              "    20% {\n",
              "      border-color: transparent;\n",
              "      border-left-color: var(--fill-color);\n",
              "      border-top-color: var(--fill-color);\n",
              "    }\n",
              "    30% {\n",
              "      border-color: transparent;\n",
              "      border-left-color: var(--fill-color);\n",
              "      border-top-color: var(--fill-color);\n",
              "      border-right-color: var(--fill-color);\n",
              "    }\n",
              "    40% {\n",
              "      border-color: transparent;\n",
              "      border-right-color: var(--fill-color);\n",
              "      border-top-color: var(--fill-color);\n",
              "    }\n",
              "    60% {\n",
              "      border-color: transparent;\n",
              "      border-right-color: var(--fill-color);\n",
              "    }\n",
              "    80% {\n",
              "      border-color: transparent;\n",
              "      border-right-color: var(--fill-color);\n",
              "      border-bottom-color: var(--fill-color);\n",
              "    }\n",
              "    90% {\n",
              "      border-color: transparent;\n",
              "      border-bottom-color: var(--fill-color);\n",
              "    }\n",
              "  }\n",
              "</style>\n",
              "\n",
              "  <script>\n",
              "    async function quickchart(key) {\n",
              "      const quickchartButtonEl =\n",
              "        document.querySelector('#' + key + ' button');\n",
              "      quickchartButtonEl.disabled = true;  // To prevent multiple clicks.\n",
              "      quickchartButtonEl.classList.add('colab-df-spinner');\n",
              "      try {\n",
              "        const charts = await google.colab.kernel.invokeFunction(\n",
              "            'suggestCharts', [key], {});\n",
              "      } catch (error) {\n",
              "        console.error('Error during call to suggestCharts:', error);\n",
              "      }\n",
              "      quickchartButtonEl.classList.remove('colab-df-spinner');\n",
              "      quickchartButtonEl.classList.add('colab-df-quickchart-complete');\n",
              "    }\n",
              "    (() => {\n",
              "      let quickchartButtonEl =\n",
              "        document.querySelector('#df-7522caa8-81be-4e5a-80ea-513b00818c6e button');\n",
              "      quickchartButtonEl.style.display =\n",
              "        google.colab.kernel.accessAllowed ? 'block' : 'none';\n",
              "    })();\n",
              "  </script>\n",
              "</div>\n",
              "    </div>\n",
              "  </div>\n"
            ]
          },
          "metadata": {},
          "execution_count": 5
        }
      ]
    },
    {
      "cell_type": "code",
      "source": [
        "# Display basic information about the dataset\n",
        "print(\"Summary of the dataset:\")\n",
        "print(df.info())\n",
        "\n",
        "# Display the first few rows of the dataset\n",
        "print(\"\\nFirst few rows of the dataset:\")\n",
        "print(df.head())"
      ],
      "metadata": {
        "colab": {
          "base_uri": "https://localhost:8080/"
        },
        "id": "nW3l1MQEfJU-",
        "outputId": "23285fa6-7ce1-4bbf-beea-43e22aec4abd"
      },
      "execution_count": null,
      "outputs": [
        {
          "output_type": "stream",
          "name": "stdout",
          "text": [
            "Summary of the dataset:\n",
            "<class 'pandas.core.frame.DataFrame'>\n",
            "RangeIndex: 50000 entries, 0 to 49999\n",
            "Data columns (total 2 columns):\n",
            " #   Column     Non-Null Count  Dtype \n",
            "---  ------     --------------  ----- \n",
            " 0   review     50000 non-null  object\n",
            " 1   sentiment  50000 non-null  object\n",
            "dtypes: object(2)\n",
            "memory usage: 781.4+ KB\n",
            "None\n",
            "\n",
            "First few rows of the dataset:\n",
            "                                              review sentiment\n",
            "0  One of the other reviewers has mentioned that ...  positive\n",
            "1  A wonderful little production. <br /><br />The...  positive\n",
            "2  I thought this was a wonderful way to spend ti...  positive\n",
            "3  Basically there's a family where a little boy ...  negative\n",
            "4  Petter Mattei's \"Love in the Time of Money\" is...  positive\n"
          ]
        }
      ]
    },
    {
      "cell_type": "code",
      "source": [
        "positive_count = df['sentiment'].value_counts()['positive']\n",
        "negative_count = df['sentiment'].value_counts()['negative']\n",
        "\n",
        "print(f\"Number of positive reviews: {positive_count}\")\n",
        "print(f\"Number of negative reviews: {negative_count}\")\n"
      ],
      "metadata": {
        "colab": {
          "base_uri": "https://localhost:8080/"
        },
        "id": "5j2PaPbyfOu8",
        "outputId": "130be36b-103d-42de-8522-fb7a7c1d81e0"
      },
      "execution_count": null,
      "outputs": [
        {
          "output_type": "stream",
          "name": "stdout",
          "text": [
            "Number of positive reviews: 25000\n",
            "Number of negative reviews: 25000\n"
          ]
        }
      ]
    },
    {
      "cell_type": "code",
      "source": [
        "# Compter le nombre de sentiments positifs et négatifs\n",
        "sentiment_counts = df['sentiment'].value_counts()\n",
        "\n",
        "# Tracer le diagramme à barres\n",
        "plt.bar(sentiment_counts.index, sentiment_counts.values, color=['green', 'red'])\n",
        "plt.xlabel('Sentiment')\n",
        "plt.ylabel('Nombre de critiques')\n",
        "plt.title('Distribution des sentiments dans le jeu de données IMDB')\n",
        "plt.show()\n"
      ],
      "metadata": {
        "colab": {
          "base_uri": "https://localhost:8080/",
          "height": 472
        },
        "id": "9qeBIFBZfTwv",
        "outputId": "c1e7b1c3-7889-4424-9bf5-b9854723586b"
      },
      "execution_count": null,
      "outputs": [
        {
          "output_type": "display_data",
          "data": {
            "text/plain": [
              "<Figure size 640x480 with 1 Axes>"
            ],
            "image/png": "[encoded data removed]"
          },
          "metadata": {}
        }
      ]
    },
    {
      "cell_type": "code",
      "source": [
        "# Ajouter une colonne pour la longueur des critiques\n",
        "df['review_length'] = df['review'].apply(len)\n",
        "\n",
        "# Tracer l'histogramme\n",
        "plt.hist(df['review_length'], bins=50, color='blue', edgecolor='black')\n",
        "plt.xlabel('Longueur de la critique')\n",
        "plt.ylabel('Nombre de critiques')\n",
        "plt.title('Distribution de la longueur des critiques dans le jeu de données IMDB')\n",
        "plt.show()"
      ],
      "metadata": {
        "colab": {
          "base_uri": "https://localhost:8080/",
          "height": 472
        },
        "id": "P5QC3w8vfXf7",
        "outputId": "36dec8d4-c12c-4373-93b6-f43111d038fd"
      },
      "execution_count": null,
      "outputs": [
        {
          "output_type": "display_data",
          "data": {
            "text/plain": [
              "<Figure size 640x480 with 1 Axes>"
            ],
            "image/png": "[encoded data removed]"
          },
          "metadata": {}
        }
      ]
    },
    {
      "cell_type": "markdown",
      "source": [
        "# Pre-processing\n"
      ],
      "metadata": {
        "id": "LqxYHaGgfhWy"
      }
    },
    {
      "cell_type": "code",
      "source": [
        "#  Suppression de la Ponctuation\n",
        "df['without_punctuation'] = df['review'].apply(lambda x: ''.join([word for word in x if word not in string.punctuation]))\n",
        "df['without_punctuation']"
      ],
      "metadata": {
        "colab": {
          "base_uri": "https://localhost:8080/"
        },
        "id": "8Ni24Bqkfiyu",
        "outputId": "a2fd8b47-65b8-42d3-99e2-9592a75abc30"
      },
      "execution_count": null,
      "outputs": [
        {
          "output_type": "execute_result",
          "data": {
            "text/plain": [
              "0        One of the other reviewers has mentioned that ...\n",
              "1        A wonderful little production br br The filmin...\n",
              "2        I thought this was a wonderful way to spend ti...\n",
              "3        Basically theres a family where a little boy J...\n",
              "4        Petter Matteis Love in the Time of Money is a ...\n",
              "                               ...                        \n",
              "49995    I thought this movie did a down right good job...\n",
              "49996    Bad plot bad dialogue bad acting idiotic direc...\n",
              "49997    I am a Catholic taught in parochial elementary...\n",
              "49998    Im going to have to disagree with the previous...\n",
              "49999    No one expects the Star Trek movies to be high...\n",
              "Name: without_punctuation, Length: 50000, dtype: object"
            ]
          },
          "metadata": {},
          "execution_count": 10
        }
      ]
    },
    {
      "cell_type": "code",
      "source": [
        "#Transformation en Minuscules\n",
        "df['lowercase'] = df['without_punctuation'].apply(lambda x: x.lower())\n",
        "df['lowercase']"
      ],
      "metadata": {
        "colab": {
          "base_uri": "https://localhost:8080/"
        },
        "id": "10kYbBXnflQG",
        "outputId": "4feca632-da2a-47af-852f-279b3df32d9b"
      },
      "execution_count": null,
      "outputs": [
        {
          "output_type": "execute_result",
          "data": {
            "text/plain": [
              "0        one of the other reviewers has mentioned that ...\n",
              "1        a wonderful little production br br the filmin...\n",
              "2        i thought this was a wonderful way to spend ti...\n",
              "3        basically theres a family where a little boy j...\n",
              "4        petter matteis love in the time of money is a ...\n",
              "                               ...                        \n",
              "49995    i thought this movie did a down right good job...\n",
              "49996    bad plot bad dialogue bad acting idiotic direc...\n",
              "49997    i am a catholic taught in parochial elementary...\n",
              "49998    im going to have to disagree with the previous...\n",
              "49999    no one expects the star trek movies to be high...\n",
              "Name: lowercase, Length: 50000, dtype: object"
            ]
          },
          "metadata": {},
          "execution_count": 11
        }
      ]
    },
    {
      "cell_type": "code",
      "source": [
        "#Suppression des mots vides\n",
        "stop_words = set(stopwords.words('english'))\n",
        "df['without_stopwords'] = df['lowercase'].apply(lambda x: ' '.join([word for word in x.split() if word not in stop_words]))\n",
        "df['without_stopwords']"
      ],
      "metadata": {
        "colab": {
          "base_uri": "https://localhost:8080/"
        },
        "id": "XygZjfhZfrDO",
        "outputId": "8a69c80c-f613-4fe9-e635-77b8dd6a986b"
      },
      "execution_count": null,
      "outputs": [
        {
          "output_type": "execute_result",
          "data": {
            "text/plain": [
              "0        one reviewers mentioned watching 1 oz episode ...\n",
              "1        wonderful little production br br filming tech...\n",
              "2        thought wonderful way spend time hot summer we...\n",
              "3        basically theres family little boy jake thinks...\n",
              "4        petter matteis love time money visually stunni...\n",
              "                               ...                        \n",
              "49995    thought movie right good job wasnt creative or...\n",
              "49996    bad plot bad dialogue bad acting idiotic direc...\n",
              "49997    catholic taught parochial elementary schools n...\n",
              "49998    im going disagree previous comment side maltin...\n",
              "49999    one expects star trek movies high art fans exp...\n",
              "Name: without_stopwords, Length: 50000, dtype: object"
            ]
          },
          "metadata": {},
          "execution_count": 12
        }
      ]
    },
    {
      "cell_type": "markdown",
      "source": [
        "## Tokeniser & Convert text to sequences of integers avec une longueur de séquence nominale de 200"
      ],
      "metadata": {
        "id": "DmCuLLOfgVTg"
      }
    },
    {
      "cell_type": "code",
      "source": [
        "# Separate features (X) and labels (y)\n",
        "X = df['without_stopwords']\n",
        "y = df['sentiment']\n",
        "# Initialize a Tokenizer\n",
        "tokenizer = Tokenizer(num_words=10000)\n",
        "\n",
        "# Fit the tokenizer on the entire text data\n",
        "tokenizer.fit_on_texts(X)\n",
        "\n",
        "# Convert text to sequences of integers\n",
        "X_sequences = tokenizer.texts_to_sequences(X)\n",
        "\n",
        "# Specify a maximum sequence length\n",
        "max_length = 200\n",
        "\n",
        "# Pad sequences to the specified length\n",
        "X_padded = pad_sequences(X_sequences, maxlen=max_length, padding='post')\n",
        "# Initialize a LabelEncoder to convert labels to numerical format\n",
        "label_encoder = LabelEncoder()\n",
        "\n",
        "# Fit and transform the training labels\n",
        "y_encoded = label_encoder.fit_transform(y)\n",
        "\n",
        "# Split the data into training and testing sets\n",
        "X_train, X_test, y_train, y_test = train_test_split(X_padded, y_encoded , test_size=0.2, random_state=42)"
      ],
      "metadata": {
        "id": "x9xnSAb6gk3j"
      },
      "execution_count": null,
      "outputs": []
    },
    {
      "cell_type": "markdown",
      "source": [
        "# Construction du Modèle RNN basique"
      ],
      "metadata": {
        "id": "_FNTiKyJg0oY"
      }
    },
    {
      "cell_type": "code",
      "source": [
        "from tensorflow.keras.models import Sequential\n",
        "from tensorflow.keras.layers import Embedding, LSTM, Dense\n",
        "\n",
        "# Define the vocabulary size and sequence length\n",
        "vocab_size = 10000\n",
        "sequence_length = 200\n",
        "\n",
        "# Create the Sequential model\n",
        "model = Sequential()\n",
        "\n",
        "# Add an Embedding layer\n",
        "embedding_dim = 32\n",
        "model.add(Embedding(input_dim=vocab_size, output_dim=embedding_dim, input_length=sequence_length))\n",
        "\n",
        "# Add an LSTM layer\n",
        "lstm_units = 32\n",
        "model.add(LSTM(units=lstm_units))\n",
        "\n",
        "# Add a Dense layer for binary classification\n",
        "model.add(Dense(units=1, activation='sigmoid'))\n",
        "\n",
        "# Compile the model\n",
        "model.compile(loss='binary_crossentropy', optimizer='adam', metrics=['accuracy'])\n",
        "\n",
        "# Display the model summary\n",
        "model.summary()\n"
      ],
      "metadata": {
        "colab": {
          "base_uri": "https://localhost:8080/"
        },
        "id": "b5HeEiJ5gxWv",
        "outputId": "a45c11ad-945e-4d17-e800-2e6a01e12157"
      },
      "execution_count": null,
      "outputs": [
        {
          "output_type": "stream",
          "name": "stdout",
          "text": [
            "Model: \"sequential_4\"\n",
            "_________________________________________________________________\n",
            " Layer (type)                Output Shape              Param #   \n",
            "=================================================================\n",
            " embedding_4 (Embedding)     (None, 200, 32)           320000    \n",
            "                                                                 \n",
            " lstm_4 (LSTM)               (None, 32)                8320      \n",
            "                                                                 \n",
            " dense_4 (Dense)             (None, 1)                 33        \n",
            "                                                                 \n",
            "=================================================================\n",
            "Total params: 328353 (1.25 MB)\n",
            "Trainable params: 328353 (1.25 MB)\n",
            "Non-trainable params: 0 (0.00 Byte)\n",
            "_________________________________________________________________\n"
          ]
        }
      ]
    },
    {
      "cell_type": "markdown",
      "source": [
        "# Compilation et Entraînement du Modèle"
      ],
      "metadata": {
        "id": "bFdPng6yil8p"
      }
    },
    {
      "cell_type": "code",
      "source": [
        "model.compile(loss='binary_crossentropy', optimizer='adam', metrics=['accuracy'])"
      ],
      "metadata": {
        "id": "7sEW-iFXikxw"
      },
      "execution_count": null,
      "outputs": []
    },
    {
      "cell_type": "code",
      "source": [
        "model.fit(X_train, y_train, epochs=10, batch_size=128, validation_split=0.2)"
      ],
      "metadata": {
        "colab": {
          "base_uri": "https://localhost:8080/"
        },
        "id": "dYo7D_25gpkd",
        "outputId": "eb9fa8bf-5e7f-4f95-bb4a-23ad4113bcfe"
      },
      "execution_count": null,
      "outputs": [
        {
          "output_type": "stream",
          "name": "stdout",
          "text": [
            "Epoch 1/10\n",
            "250/250 [==============================] - 42s 151ms/step - loss: 0.6917 - accuracy: 0.5117 - val_loss: 0.6868 - val_accuracy: 0.5455\n",
            "Epoch 2/10\n",
            "250/250 [==============================] - 37s 148ms/step - loss: 0.6562 - accuracy: 0.5801 - val_loss: 0.5599 - val_accuracy: 0.7729\n",
            "Epoch 3/10\n",
            "250/250 [==============================] - 35s 141ms/step - loss: 0.6837 - accuracy: 0.5470 - val_loss: 0.6885 - val_accuracy: 0.5138\n",
            "Epoch 4/10\n",
            "250/250 [==============================] - 35s 142ms/step - loss: 0.6830 - accuracy: 0.5308 - val_loss: 0.6849 - val_accuracy: 0.5185\n",
            "Epoch 5/10\n",
            "250/250 [==============================] - 50s 202ms/step - loss: 0.6706 - accuracy: 0.5433 - val_loss: 0.6748 - val_accuracy: 0.5276\n",
            "Epoch 6/10\n",
            "250/250 [==============================] - 44s 177ms/step - loss: 0.6483 - accuracy: 0.5933 - val_loss: 0.6787 - val_accuracy: 0.5325\n",
            "Epoch 7/10\n",
            "250/250 [==============================] - 50s 199ms/step - loss: 0.6559 - accuracy: 0.5855 - val_loss: 0.6890 - val_accuracy: 0.5640\n",
            "Epoch 8/10\n",
            "250/250 [==============================] - 38s 153ms/step - loss: 0.5593 - accuracy: 0.7295 - val_loss: 0.6656 - val_accuracy: 0.5514\n",
            "Epoch 9/10\n",
            "250/250 [==============================] - 38s 151ms/step - loss: 0.5474 - accuracy: 0.7437 - val_loss: 0.5555 - val_accuracy: 0.7380\n",
            "Epoch 10/10\n",
            "250/250 [==============================] - 52s 209ms/step - loss: 0.4901 - accuracy: 0.7898 - val_loss: 0.4804 - val_accuracy: 0.8125\n"
          ]
        },
        {
          "output_type": "execute_result",
          "data": {
            "text/plain": [
              "<keras.src.callbacks.History at 0x7e0935242d10>"
            ]
          },
          "metadata": {},
          "execution_count": 33
        }
      ]
    },
    {
      "cell_type": "markdown",
      "source": [
        "#  Évaluation du Modèle"
      ],
      "metadata": {
        "id": "tEpsI6vDjgiU"
      }
    },
    {
      "cell_type": "code",
      "source": [
        "# Evaluate the model on the test set\n",
        "loss, accuracy = model.evaluate(X_test, y_test)\n",
        "# Make predictions on the test set\n",
        "y_pred = model.predict(X_test)\n",
        "\n",
        "# Convert predicted probabilities to binary predictions\n",
        "y_pred_binary = (y_pred > 0.5).astype(int)\n",
        "precision = precision_score(y_test, y_pred_binary)\n",
        "\n",
        "# Print the results\n",
        "print(f\"Test Loss: {loss:.4f}\")\n",
        "print(f\"Test Accuracy: {accuracy:.4f}\")\n",
        "print(f\"Precision: {precision:.4f}\")"
      ],
      "metadata": {
        "colab": {
          "base_uri": "https://localhost:8080/"
        },
        "id": "oBJ6AIIdjeK_",
        "outputId": "9d2ca3c2-9dad-4aa7-c1ba-8112cdf4c3c9"
      },
      "execution_count": null,
      "outputs": [
        {
          "output_type": "stream",
          "name": "stdout",
          "text": [
            "313/313 [==============================] - 7s 21ms/step - loss: 0.4569 - accuracy: 0.8274\n",
            "313/313 [==============================] - 7s 20ms/step\n",
            "Test Loss: 0.4569\n",
            "Test Accuracy: 0.8274\n",
            "Precision: 0.8280\n"
          ]
        }
      ]
    },
    {
      "cell_type": "markdown",
      "source": [
        "The accuracy is relatively high.\n",
        "Precision of 79.31% suggests that when the model predicts a positive instance, it tends to be correct."
      ],
      "metadata": {
        "id": "-jdSmgTjlYet"
      }
    },
    {
      "cell_type": "code",
      "source": [
        "from sklearn.metrics import confusion_matrix, classification_report\n",
        "\n",
        "# Convert predicted probabilities to binary predictions\n",
        "y_pred_binary = (y_pred > 0.5).astype(int)\n",
        "\n",
        "# Calculate confusion matrix\n",
        "conf_matrix = confusion_matrix(y_test, y_pred_binary)\n",
        "\n",
        "# Print confusion matrix\n",
        "print(\"Confusion Matrix:\")\n",
        "print(conf_matrix)\n",
        "\n",
        "# Calculate and print classification report\n",
        "print(\"\\nClassification Report:\")\n",
        "print(classification_report(y_test, y_pred_binary))\n"
      ],
      "metadata": {
        "colab": {
          "base_uri": "https://localhost:8080/"
        },
        "id": "6rjvtJjylmje",
        "outputId": "258489fa-f062-4e22-e0c0-99337028b8eb"
      },
      "execution_count": null,
      "outputs": [
        {
          "output_type": "stream",
          "name": "stdout",
          "text": [
            "Confusion Matrix:\n",
            "[[4092  869]\n",
            " [ 857 4182]]\n",
            "\n",
            "Classification Report:\n",
            "              precision    recall  f1-score   support\n",
            "\n",
            "           0       0.83      0.82      0.83      4961\n",
            "           1       0.83      0.83      0.83      5039\n",
            "\n",
            "    accuracy                           0.83     10000\n",
            "   macro avg       0.83      0.83      0.83     10000\n",
            "weighted avg       0.83      0.83      0.83     10000\n",
            "\n"
          ]
        }
      ]
    },
    {
      "cell_type": "markdown",
      "source": [
        "#  Analyse des Paramètres du Modèle"
      ],
      "metadata": {
        "id": "FSialYFXlrsc"
      }
    },
    {
      "cell_type": "markdown",
      "source": [
        "## Modifiez le nombre d'unités dans le RNN"
      ],
      "metadata": {
        "id": "lEIR41XMpyO6"
      }
    },
    {
      "cell_type": "code",
      "source": [
        "# Define the vocabulary size and sequence length\n",
        "vocab_size = 10000\n",
        "sequence_length = 200\n",
        "\n",
        "# Create the Sequential model\n",
        "model = Sequential()\n",
        "\n",
        "# Add an Embedding layer\n",
        "embedding_dim = 32\n",
        "model.add(Embedding(input_dim=vocab_size, output_dim=embedding_dim, input_length=sequence_length))\n",
        "\n",
        "# Add an LSTM layer\n",
        "lstm_units = 40\n",
        "model.add(LSTM(units=lstm_units))\n",
        "\n",
        "# Add a Dense layer for binary classification\n",
        "model.add(Dense(units=1, activation='sigmoid'))\n",
        "\n",
        "# Compile the model\n",
        "model.compile(loss='binary_crossentropy', optimizer='adam', metrics=['accuracy'])\n",
        "\n",
        "# Display the model summary\n",
        "model.summary()\n"
      ],
      "metadata": {
        "colab": {
          "base_uri": "https://localhost:8080/"
        },
        "id": "d-4AFzWrlt8q",
        "outputId": "13ce693f-f973-43a0-ea1a-067a01730743"
      },
      "execution_count": null,
      "outputs": [
        {
          "output_type": "stream",
          "name": "stdout",
          "text": [
            "Model: \"sequential_1\"\n",
            "_________________________________________________________________\n",
            " Layer (type)                Output Shape              Param #   \n",
            "=================================================================\n",
            " embedding_1 (Embedding)     (None, 200, 32)           320000    \n",
            "                                                                 \n",
            " lstm_1 (LSTM)               (None, 40)                11680     \n",
            "                                                                 \n",
            " dense_1 (Dense)             (None, 1)                 41        \n",
            "                                                                 \n",
            "=================================================================\n",
            "Total params: 331721 (1.27 MB)\n",
            "Trainable params: 331721 (1.27 MB)\n",
            "Non-trainable params: 0 (0.00 Byte)\n",
            "_________________________________________________________________\n"
          ]
        }
      ]
    },
    {
      "cell_type": "code",
      "source": [
        "model.fit(X_train, y_train, epochs=10, batch_size=128, validation_split=0.2)"
      ],
      "metadata": {
        "colab": {
          "base_uri": "https://localhost:8080/"
        },
        "id": "w7hVhsStl7Cs",
        "outputId": "0958fec8-a720-4e26-b41f-adc305109208"
      },
      "execution_count": null,
      "outputs": [
        {
          "output_type": "stream",
          "name": "stdout",
          "text": [
            "Epoch 1/10\n",
            "250/250 [==============================] - 45s 169ms/step - loss: 0.6914 - accuracy: 0.5129 - val_loss: 0.6869 - val_accuracy: 0.5236\n",
            "Epoch 2/10\n",
            "250/250 [==============================] - 41s 166ms/step - loss: 0.6674 - accuracy: 0.5528 - val_loss: 0.5376 - val_accuracy: 0.7596\n",
            "Epoch 3/10\n",
            "250/250 [==============================] - 39s 156ms/step - loss: 0.5834 - accuracy: 0.7364 - val_loss: 0.5889 - val_accuracy: 0.7084\n",
            "Epoch 4/10\n",
            "250/250 [==============================] - 44s 176ms/step - loss: 0.5688 - accuracy: 0.7123 - val_loss: 0.5815 - val_accuracy: 0.7150\n",
            "Epoch 5/10\n",
            "250/250 [==============================] - 47s 187ms/step - loss: 0.6125 - accuracy: 0.6424 - val_loss: 0.5799 - val_accuracy: 0.6990\n",
            "Epoch 6/10\n",
            "250/250 [==============================] - 44s 176ms/step - loss: 0.5825 - accuracy: 0.7030 - val_loss: 0.6821 - val_accuracy: 0.5185\n",
            "Epoch 7/10\n",
            "250/250 [==============================] - 43s 173ms/step - loss: 0.6524 - accuracy: 0.5521 - val_loss: 0.6766 - val_accuracy: 0.5372\n",
            "Epoch 8/10\n",
            "250/250 [==============================] - 45s 181ms/step - loss: 0.6193 - accuracy: 0.6217 - val_loss: 0.6789 - val_accuracy: 0.5270\n",
            "Epoch 9/10\n",
            "250/250 [==============================] - 45s 178ms/step - loss: 0.6444 - accuracy: 0.5612 - val_loss: 0.6664 - val_accuracy: 0.5779\n",
            "Epoch 10/10\n",
            "250/250 [==============================] - 41s 166ms/step - loss: 0.6481 - accuracy: 0.5872 - val_loss: 0.7046 - val_accuracy: 0.5328\n"
          ]
        },
        {
          "output_type": "execute_result",
          "data": {
            "text/plain": [
              "<keras.src.callbacks.History at 0x7e0923485270>"
            ]
          },
          "metadata": {},
          "execution_count": 20
        }
      ]
    },
    {
      "cell_type": "code",
      "source": [
        "# Make predictions on the test set\n",
        "y_pred = model.predict(X_test)\n",
        "# Convert predicted probabilities to binary predictions\n",
        "y_pred_binary = (y_pred > 0.5).astype(int)\n",
        "\n",
        "# Calculate confusion matrix\n",
        "conf_matrix = confusion_matrix(y_test, y_pred_binary)\n",
        "\n",
        "# Print confusion matrix\n",
        "print(\"Confusion Matrix:\")\n",
        "print(conf_matrix)\n",
        "\n",
        "# Calculate and print classification report\n",
        "print(\"\\nClassification Report:\")\n",
        "print(classification_report(y_test, y_pred_binary))"
      ],
      "metadata": {
        "colab": {
          "base_uri": "https://localhost:8080/"
        },
        "id": "4Bdwx6bAmB_o",
        "outputId": "491097c9-9145-434a-dd72-a1635f130818"
      },
      "execution_count": null,
      "outputs": [
        {
          "output_type": "stream",
          "name": "stdout",
          "text": [
            "313/313 [==============================] - 9s 27ms/step\n",
            "Confusion Matrix:\n",
            "[[4795  166]\n",
            " [4481  558]]\n",
            "\n",
            "Classification Report:\n",
            "              precision    recall  f1-score   support\n",
            "\n",
            "           0       0.52      0.97      0.67      4961\n",
            "           1       0.77      0.11      0.19      5039\n",
            "\n",
            "    accuracy                           0.54     10000\n",
            "   macro avg       0.64      0.54      0.43     10000\n",
            "weighted avg       0.64      0.54      0.43     10000\n",
            "\n"
          ]
        }
      ]
    },
    {
      "cell_type": "markdown",
      "source": [
        "performance a diminuer avec 40 unite"
      ],
      "metadata": {
        "id": "uYsO3sFntxsn"
      }
    },
    {
      "cell_type": "markdown",
      "source": [
        "## Utilisez un autre type de fonction d'activation"
      ],
      "metadata": {
        "id": "cDQl0UUXp3GZ"
      }
    },
    {
      "cell_type": "code",
      "source": [
        "# Define the vocabulary size and sequence length\n",
        "vocab_size = 10000\n",
        "sequence_length = 200\n",
        "\n",
        "# Create the Sequential model\n",
        "model = Sequential()\n",
        "\n",
        "# Add an Embedding layer\n",
        "embedding_dim = 32\n",
        "model.add(Embedding(input_dim=vocab_size, output_dim=embedding_dim, input_length=sequence_length))\n",
        "\n",
        "# Add an LSTM layer\n",
        "lstm_units = 32\n",
        "model.add(LSTM(units=lstm_units,activation='tanh'))\n",
        "\n",
        "# Add a Dense layer for binary classification\n",
        "model.add(Dense(units=1, activation='sigmoid'))\n",
        "\n",
        "# Compile the model\n",
        "model.compile(loss='binary_crossentropy', optimizer='adam', metrics=['accuracy'])\n",
        "\n",
        "# Display the model summary\n",
        "model.summary()\n"
      ],
      "metadata": {
        "colab": {
          "base_uri": "https://localhost:8080/"
        },
        "id": "GrMAqijjonGo",
        "outputId": "4ce78ce2-1da6-4596-c9d4-46a0144b28d4"
      },
      "execution_count": null,
      "outputs": [
        {
          "output_type": "stream",
          "name": "stdout",
          "text": [
            "Model: \"sequential_2\"\n",
            "_________________________________________________________________\n",
            " Layer (type)                Output Shape              Param #   \n",
            "=================================================================\n",
            " embedding_2 (Embedding)     (None, 200, 32)           320000    \n",
            "                                                                 \n",
            " lstm_2 (LSTM)               (None, 32)                8320      \n",
            "                                                                 \n",
            " dense_2 (Dense)             (None, 1)                 33        \n",
            "                                                                 \n",
            "=================================================================\n",
            "Total params: 328353 (1.25 MB)\n",
            "Trainable params: 328353 (1.25 MB)\n",
            "Non-trainable params: 0 (0.00 Byte)\n",
            "_________________________________________________________________\n"
          ]
        }
      ]
    },
    {
      "cell_type": "code",
      "source": [
        "model.fit(X_train, y_train, epochs=10, batch_size=128, validation_split=0.2)"
      ],
      "metadata": {
        "colab": {
          "base_uri": "https://localhost:8080/"
        },
        "id": "-ov3Xs2GpV3w",
        "outputId": "f552b4d4-7094-4d3f-a9a3-0ab989659701"
      },
      "execution_count": null,
      "outputs": [
        {
          "output_type": "stream",
          "name": "stdout",
          "text": [
            "Epoch 1/10\n",
            "250/250 [==============================] - 44s 168ms/step - loss: 0.6918 - accuracy: 0.5207 - val_loss: 0.6885 - val_accuracy: 0.5295\n",
            "Epoch 2/10\n",
            "250/250 [==============================] - 35s 140ms/step - loss: 0.6057 - accuracy: 0.6881 - val_loss: 0.5592 - val_accuracy: 0.7253\n",
            "Epoch 3/10\n",
            "250/250 [==============================] - 39s 156ms/step - loss: 0.5361 - accuracy: 0.7645 - val_loss: 0.5515 - val_accuracy: 0.7545\n",
            "Epoch 4/10\n",
            "250/250 [==============================] - 42s 167ms/step - loss: 0.5228 - accuracy: 0.7762 - val_loss: 0.5352 - val_accuracy: 0.7694\n",
            "Epoch 5/10\n",
            "250/250 [==============================] - 35s 141ms/step - loss: 0.6146 - accuracy: 0.6732 - val_loss: 0.5369 - val_accuracy: 0.7605\n",
            "Epoch 6/10\n",
            "250/250 [==============================] - 33s 133ms/step - loss: 0.5034 - accuracy: 0.7865 - val_loss: 0.5191 - val_accuracy: 0.7797\n",
            "Epoch 7/10\n",
            "250/250 [==============================] - 35s 140ms/step - loss: 0.4869 - accuracy: 0.7947 - val_loss: 0.5135 - val_accuracy: 0.7809\n",
            "Epoch 8/10\n",
            "250/250 [==============================] - 34s 138ms/step - loss: 0.4694 - accuracy: 0.8084 - val_loss: 0.5123 - val_accuracy: 0.7876\n",
            "Epoch 9/10\n",
            "250/250 [==============================] - 35s 140ms/step - loss: 0.5754 - accuracy: 0.7602 - val_loss: 0.5510 - val_accuracy: 0.7473\n",
            "Epoch 10/10\n",
            "250/250 [==============================] - 36s 145ms/step - loss: 0.5365 - accuracy: 0.7558 - val_loss: 0.5459 - val_accuracy: 0.7541\n"
          ]
        },
        {
          "output_type": "execute_result",
          "data": {
            "text/plain": [
              "<keras.src.callbacks.History at 0x7e0935274eb0>"
            ]
          },
          "metadata": {},
          "execution_count": 23
        },
        {
          "output_type": "stream",
          "name": "stdout",
          "text": [
            "Epoch 1/10\n",
            "250/250 [==============================] - 36s 145ms/step - loss: 0.5433 - accuracy: 0.7590 - val_loss: 0.5738 - val_accuracy: 0.7306\n",
            "Epoch 2/10\n",
            "250/250 [==============================] - 35s 140ms/step - loss: 0.5847 - accuracy: 0.7022 - val_loss: 0.6856 - val_accuracy: 0.5161\n",
            "Epoch 3/10\n",
            "250/250 [==============================] - 46s 184ms/step - loss: 0.6704 - accuracy: 0.5462 - val_loss: 0.6801 - val_accuracy: 0.5268\n",
            "Epoch 4/10\n",
            "250/250 [==============================] - 40s 159ms/step - loss: 0.6544 - accuracy: 0.5541 - val_loss: 0.6717 - val_accuracy: 0.5421\n",
            "Epoch 5/10\n",
            "250/250 [==============================] - 36s 142ms/step - loss: 0.6571 - accuracy: 0.5805 - val_loss: 0.6652 - val_accuracy: 0.5346\n",
            "Epoch 6/10\n",
            "250/250 [==============================] - 36s 143ms/step - loss: 0.6620 - accuracy: 0.5698 - val_loss: 0.6624 - val_accuracy: 0.5726\n",
            "Epoch 7/10\n",
            "250/250 [==============================] - 33s 131ms/step - loss: 0.4753 - accuracy: 0.8129 - val_loss: 0.5392 - val_accuracy: 0.7891\n",
            "Epoch 8/10\n",
            "250/250 [==============================] - 34s 137ms/step - loss: 0.4547 - accuracy: 0.8237 - val_loss: 0.4897 - val_accuracy: 0.8062\n",
            "Epoch 9/10\n",
            "250/250 [==============================] - 39s 157ms/step - loss: 0.5022 - accuracy: 0.7854 - val_loss: 0.5075 - val_accuracy: 0.7899\n",
            "Epoch 10/10\n",
            "250/250 [==============================] - 35s 139ms/step - loss: 0.4525 - accuracy: 0.8252 - val_loss: 0.4873 - val_accuracy: 0.8031\n"
          ]
        },
        {
          "output_type": "execute_result",
          "data": {
            "text/plain": [
              "<keras.src.callbacks.History at 0x7e094581aaa0>"
            ]
          },
          "metadata": {},
          "execution_count": 25
        }
      ]
    },
    {
      "cell_type": "code",
      "source": [
        "# Make predictions on the test set\n",
        "y_pred = model.predict(X_test)\n",
        "# Convert predicted probabilities to binary predictions\n",
        "y_pred_binary = (y_pred > 0.5).astype(int)\n",
        "\n",
        "# Calculate confusion matrix\n",
        "conf_matrix = confusion_matrix(y_test, y_pred_binary)\n",
        "\n",
        "# Print confusion matrix\n",
        "print(\"Confusion Matrix:\")\n",
        "print(conf_matrix)\n",
        "\n",
        "# Calculate and print classification report\n",
        "print(\"\\nClassification Report:\")\n",
        "print(classification_report(y_test, y_pred_binary))\n"
      ],
      "metadata": {
        "colab": {
          "base_uri": "https://localhost:8080/"
        },
        "id": "YEJHY3-Dpqxu",
        "outputId": "f06968fd-0e60-4329-a2ed-db836d037ec2"
      },
      "execution_count": null,
      "outputs": [
        {
          "output_type": "stream",
          "name": "stdout",
          "text": [
            "313/313 [==============================] - 7s 20ms/step\n",
            "Confusion Matrix:\n",
            "[[3251 1710]\n",
            " [ 764 4275]]\n",
            "\n",
            "Classification Report:\n",
            "              precision    recall  f1-score   support\n",
            "\n",
            "           0       0.81      0.66      0.72      4961\n",
            "           1       0.71      0.85      0.78      5039\n",
            "\n",
            "    accuracy                           0.75     10000\n",
            "   macro avg       0.76      0.75      0.75     10000\n",
            "weighted avg       0.76      0.75      0.75     10000\n",
            "\n"
          ]
        }
      ]
    },
    {
      "cell_type": "markdown",
      "source": [
        "# **Partie II : Implémenter un réseau Bi-LSTM pour l'analyse de sentiment à l'aide d'un ensemble de données au format CS**"
      ],
      "metadata": {
        "id": "T1LzgpXX0edn"
      }
    },
    {
      "cell_type": "markdown",
      "source": [
        "# Préparation de l’environnement du travail\n"
      ],
      "metadata": {
        "id": "KUPNILxD01kR"
      }
    },
    {
      "cell_type": "code",
      "source": [
        "from tensorflow.keras.layers import SimpleRNN, Dense, Embedding, LSTM, Bidirectional"
      ],
      "metadata": {
        "id": "eEvBIKYW0pdR"
      },
      "execution_count": null,
      "outputs": []
    },
    {
      "cell_type": "markdown",
      "source": [
        "# Construction du Modèle Bi-LSTM basique"
      ],
      "metadata": {
        "id": "RR3LuEEy0zpW"
      }
    },
    {
      "cell_type": "code",
      "source": [
        "vocab_size = 10000\n",
        "sequence_length = 200\n",
        "# Create the Sequential model\n",
        "model = Sequential()\n",
        "\n",
        "# Add an Embedding layer\n",
        "embedding_dim = 32\n",
        "model.add(Embedding(input_dim=vocab_size, output_dim=embedding_dim, input_length=sequence_length))\n",
        "\n",
        "# Add a Bidirectional LSTM layer\n",
        "lstm_units = 32\n",
        "model.add(Bidirectional(LSTM(units=lstm_units)))\n",
        "\n",
        "# Add a Dense layer for binary classification\n",
        "model.add(Dense(units=1, activation='sigmoid'))\n",
        "\n",
        "# Compile the model\n",
        "model.compile(loss='binary_crossentropy', optimizer='adam', metrics=['accuracy'])\n",
        "\n",
        "# Display the model summary\n",
        "model.summary()\n"
      ],
      "metadata": {
        "colab": {
          "base_uri": "https://localhost:8080/"
        },
        "id": "b0mzYJ6J0vTF",
        "outputId": "b63d48fb-f8a5-4022-eb83-cc27718f468a"
      },
      "execution_count": null,
      "outputs": [
        {
          "output_type": "stream",
          "name": "stdout",
          "text": [
            "Model: \"sequential_5\"\n",
            "_________________________________________________________________\n",
            " Layer (type)                Output Shape              Param #   \n",
            "=================================================================\n",
            " embedding_5 (Embedding)     (None, 200, 32)           320000    \n",
            "                                                                 \n",
            " bidirectional (Bidirection  (None, 64)                16640     \n",
            " al)                                                             \n",
            "                                                                 \n",
            " dense_5 (Dense)             (None, 1)                 65        \n",
            "                                                                 \n",
            "=================================================================\n",
            "Total params: 336705 (1.28 MB)\n",
            "Trainable params: 336705 (1.28 MB)\n",
            "Non-trainable params: 0 (0.00 Byte)\n",
            "_________________________________________________________________\n"
          ]
        }
      ]
    },
    {
      "cell_type": "markdown",
      "source": [
        "# Compilation et Entraînement du Modèle"
      ],
      "metadata": {
        "id": "_PjQdoaV1Mm-"
      }
    },
    {
      "cell_type": "code",
      "source": [
        "model.fit(X_train, y_train, epochs=10, batch_size=128, validation_split=0.2)"
      ],
      "metadata": {
        "colab": {
          "base_uri": "https://localhost:8080/"
        },
        "id": "2l1npvQY1QBr",
        "outputId": "f9f1a48a-35ac-4c25-a1df-3abdff276944"
      },
      "execution_count": null,
      "outputs": [
        {
          "output_type": "stream",
          "name": "stdout",
          "text": [
            "Epoch 1/10\n",
            "250/250 [==============================] - 81s 310ms/step - loss: 0.4674 - accuracy: 0.7719 - val_loss: 0.2969 - val_accuracy: 0.8809\n",
            "Epoch 2/10\n",
            "250/250 [==============================] - 76s 306ms/step - loss: 0.2392 - accuracy: 0.9094 - val_loss: 0.2849 - val_accuracy: 0.8817\n",
            "Epoch 3/10\n",
            "250/250 [==============================] - 70s 282ms/step - loss: 0.1846 - accuracy: 0.9341 - val_loss: 0.3160 - val_accuracy: 0.8873\n",
            "Epoch 4/10\n",
            "250/250 [==============================] - 61s 244ms/step - loss: 0.1559 - accuracy: 0.9458 - val_loss: 0.3177 - val_accuracy: 0.8788\n",
            "Epoch 5/10\n",
            "250/250 [==============================] - 61s 244ms/step - loss: 0.1232 - accuracy: 0.9596 - val_loss: 0.3694 - val_accuracy: 0.8774\n",
            "Epoch 6/10\n",
            "250/250 [==============================] - 66s 263ms/step - loss: 0.1028 - accuracy: 0.9672 - val_loss: 0.3756 - val_accuracy: 0.8646\n",
            "Epoch 7/10\n",
            "250/250 [==============================] - 69s 277ms/step - loss: 0.0922 - accuracy: 0.9716 - val_loss: 0.4610 - val_accuracy: 0.8702\n",
            "Epoch 8/10\n",
            "250/250 [==============================] - 67s 267ms/step - loss: 0.0813 - accuracy: 0.9747 - val_loss: 0.4585 - val_accuracy: 0.8668\n",
            "Epoch 9/10\n",
            "250/250 [==============================] - 68s 271ms/step - loss: 0.0736 - accuracy: 0.9774 - val_loss: 0.4869 - val_accuracy: 0.8702\n",
            "Epoch 10/10\n",
            "250/250 [==============================] - 66s 263ms/step - loss: 0.0728 - accuracy: 0.9782 - val_loss: 0.4968 - val_accuracy: 0.8684\n"
          ]
        },
        {
          "output_type": "execute_result",
          "data": {
            "text/plain": [
              "<keras.src.callbacks.History at 0x7e09234a3490>"
            ]
          },
          "metadata": {},
          "execution_count": 36
        }
      ]
    },
    {
      "cell_type": "markdown",
      "source": [
        "# Évaluation du Modèle"
      ],
      "metadata": {
        "id": "4CXEcW8W1PT3"
      }
    },
    {
      "cell_type": "code",
      "source": [
        "# Make predictions on the test set\n",
        "y_pred = model.predict(X_test)\n",
        "# Convert predicted probabilities to binary predictions\n",
        "y_pred_binary = (y_pred > 0.5).astype(int)\n",
        "\n",
        "# Calculate confusion matrix\n",
        "conf_matrix = confusion_matrix(y_test, y_pred_binary)\n",
        "\n",
        "# Print confusion matrix\n",
        "print(\"Confusion Matrix:\")\n",
        "print(conf_matrix)\n",
        "\n",
        "# Calculate and print classification report\n",
        "print(\"\\nClassification Report:\")\n",
        "print(classification_report(y_test, y_pred_binary))"
      ],
      "metadata": {
        "colab": {
          "base_uri": "https://localhost:8080/"
        },
        "id": "KnJrBPgh1T9i",
        "outputId": "b2cf41d7-d54d-4516-beaa-6ffbaa95596d"
      },
      "execution_count": null,
      "outputs": [
        {
          "output_type": "stream",
          "name": "stdout",
          "text": [
            "313/313 [==============================] - 14s 41ms/step\n",
            "Confusion Matrix:\n",
            "[[4310  651]\n",
            " [ 659 4380]]\n",
            "\n",
            "Classification Report:\n",
            "              precision    recall  f1-score   support\n",
            "\n",
            "           0       0.87      0.87      0.87      4961\n",
            "           1       0.87      0.87      0.87      5039\n",
            "\n",
            "    accuracy                           0.87     10000\n",
            "   macro avg       0.87      0.87      0.87     10000\n",
            "weighted avg       0.87      0.87      0.87     10000\n",
            "\n"
          ]
        }
      ]
    },
    {
      "cell_type": "markdown",
      "source": [
        "#  Analyse des Paramètres du Modèle"
      ],
      "metadata": {
        "id": "AgzokJSS1UpW"
      }
    },
    {
      "cell_type": "markdown",
      "source": [
        "## Modifiez le nombre d'unités dans le Bi-LSTM"
      ],
      "metadata": {
        "id": "IPoOTsvw1XyZ"
      }
    },
    {
      "cell_type": "code",
      "source": [
        "vocab_size = 10000\n",
        "sequence_length = 200\n",
        "# Create the Sequential model\n",
        "model = Sequential()\n",
        "\n",
        "# Add an Embedding layer\n",
        "embedding_dim = 32\n",
        "model.add(Embedding(input_dim=vocab_size, output_dim=embedding_dim, input_length=sequence_length))\n",
        "\n",
        "# Add a Bidirectional LSTM layer\n",
        "lstm_units = 20\n",
        "model.add(Bidirectional(LSTM(units=lstm_units)))\n",
        "\n",
        "# Add a Dense layer for binary classification\n",
        "model.add(Dense(units=1, activation='sigmoid'))\n",
        "\n",
        "# Compile the model\n",
        "model.compile(loss='binary_crossentropy', optimizer='adam', metrics=['accuracy'])\n",
        "\n",
        "# Display the model summary\n",
        "model.summary()\n",
        "model.fit(X_train, y_train, epochs=10, batch_size=128, validation_split=0.2)\n",
        "# Make predictions on the test set\n",
        "y_pred = model.predict(X_test)\n",
        "# Convert predicted probabilities to binary predictions\n",
        "y_pred_binary = (y_pred > 0.5).astype(int)\n",
        "\n",
        "# Calculate confusion matrix\n",
        "conf_matrix = confusion_matrix(y_test, y_pred_binary)\n",
        "\n",
        "# Print confusion matrix\n",
        "print(\"Confusion Matrix:\")\n",
        "print(conf_matrix)\n",
        "\n",
        "# Calculate and print classification report\n",
        "print(\"\\nClassification Report:\")\n",
        "print(classification_report(y_test, y_pred_binary))"
      ],
      "metadata": {
        "colab": {
          "base_uri": "https://localhost:8080/"
        },
        "id": "oNNsClRB1Z50",
        "outputId": "94334f4b-c591-4325-8c16-ecad868b1277"
      },
      "execution_count": null,
      "outputs": [
        {
          "output_type": "stream",
          "name": "stdout",
          "text": [
            "Model: \"sequential_6\"\n",
            "_________________________________________________________________\n",
            " Layer (type)                Output Shape              Param #   \n",
            "=================================================================\n",
            " embedding_6 (Embedding)     (None, 200, 32)           320000    \n",
            "                                                                 \n",
            " bidirectional_1 (Bidirecti  (None, 40)                8480      \n",
            " onal)                                                           \n",
            "                                                                 \n",
            " dense_6 (Dense)             (None, 1)                 41        \n",
            "                                                                 \n",
            "=================================================================\n",
            "Total params: 328521 (1.25 MB)\n",
            "Trainable params: 328521 (1.25 MB)\n",
            "Non-trainable params: 0 (0.00 Byte)\n",
            "_________________________________________________________________\n",
            "Epoch 1/10\n",
            "250/250 [==============================] - 56s 207ms/step - loss: 0.4548 - accuracy: 0.7909 - val_loss: 0.3066 - val_accuracy: 0.8784\n",
            "Epoch 2/10\n",
            "250/250 [==============================] - 48s 193ms/step - loss: 0.2435 - accuracy: 0.9095 - val_loss: 0.2880 - val_accuracy: 0.8826\n",
            "Epoch 3/10\n",
            "250/250 [==============================] - 47s 188ms/step - loss: 0.1833 - accuracy: 0.9356 - val_loss: 0.3057 - val_accuracy: 0.8792\n",
            "Epoch 4/10\n",
            "250/250 [==============================] - 47s 188ms/step - loss: 0.1489 - accuracy: 0.9508 - val_loss: 0.3488 - val_accuracy: 0.8767\n",
            "Epoch 5/10\n",
            "250/250 [==============================] - 50s 199ms/step - loss: 0.1199 - accuracy: 0.9616 - val_loss: 0.3686 - val_accuracy: 0.8760\n",
            "Epoch 6/10\n",
            "250/250 [==============================] - 49s 196ms/step - loss: 0.0982 - accuracy: 0.9694 - val_loss: 0.4145 - val_accuracy: 0.8679\n",
            "Epoch 7/10\n",
            "250/250 [==============================] - 50s 199ms/step - loss: 0.0924 - accuracy: 0.9717 - val_loss: 0.4023 - val_accuracy: 0.8641\n",
            "Epoch 8/10\n",
            "250/250 [==============================] - 50s 201ms/step - loss: 0.0830 - accuracy: 0.9750 - val_loss: 0.4427 - val_accuracy: 0.8709\n",
            "Epoch 9/10\n",
            "250/250 [==============================] - 53s 212ms/step - loss: 0.0719 - accuracy: 0.9795 - val_loss: 0.4755 - val_accuracy: 0.8661\n",
            "Epoch 10/10\n",
            "250/250 [==============================] - 53s 211ms/step - loss: 0.0595 - accuracy: 0.9838 - val_loss: 0.4464 - val_accuracy: 0.8685\n",
            "313/313 [==============================] - 11s 31ms/step\n",
            "Confusion Matrix:\n",
            "[[4150  811]\n",
            " [ 551 4488]]\n",
            "\n",
            "Classification Report:\n",
            "              precision    recall  f1-score   support\n",
            "\n",
            "           0       0.88      0.84      0.86      4961\n",
            "           1       0.85      0.89      0.87      5039\n",
            "\n",
            "    accuracy                           0.86     10000\n",
            "   macro avg       0.86      0.86      0.86     10000\n",
            "weighted avg       0.86      0.86      0.86     10000\n",
            "\n"
          ]
        }
      ]
    },
    {
      "cell_type": "markdown",
      "source": [
        "## Utilisez un autre type de fonction d'activation"
      ],
      "metadata": {
        "id": "HlZS5Sb31aBg"
      }
    },
    {
      "cell_type": "code",
      "source": [
        "vocab_size = 10000\n",
        "sequence_length = 200\n",
        "# Create the Sequential model\n",
        "model = Sequential()\n",
        "\n",
        "# Add an Embedding layer\n",
        "embedding_dim = 32\n",
        "model.add(Embedding(input_dim=vocab_size, output_dim=embedding_dim, input_length=sequence_length))\n",
        "\n",
        "# Add a Bidirectional LSTM layer\n",
        "lstm_units = 32\n",
        "model.add(Bidirectional(LSTM(units=lstm_units,activation='tanh')))\n",
        "\n",
        "# Add a Dense layer for binary classification\n",
        "model.add(Dense(units=1, activation='sigmoid'))\n",
        "\n",
        "# Compile the model\n",
        "model.compile(loss='binary_crossentropy', optimizer='adam', metrics=['accuracy'])\n",
        "\n",
        "# Display the model summary\n",
        "model.summary()\n",
        "model.fit(X_train, y_train, epochs=10, batch_size=128, validation_split=0.2)\n",
        "# Make predictions on the test set\n",
        "y_pred = model.predict(X_test)\n",
        "# Convert predicted probabilities to binary predictions\n",
        "y_pred_binary = (y_pred > 0.5).astype(int)\n",
        "\n",
        "# Calculate confusion matrix\n",
        "conf_matrix = confusion_matrix(y_test, y_pred_binary)\n",
        "\n",
        "# Print confusion matrix\n",
        "print(\"Confusion Matrix:\")\n",
        "print(conf_matrix)\n",
        "\n",
        "# Calculate and print classification report\n",
        "print(\"\\nClassification Report:\")\n",
        "print(classification_report(y_test, y_pred_binary))"
      ],
      "metadata": {
        "colab": {
          "base_uri": "https://localhost:8080/"
        },
        "id": "ICsAqqX61cxd",
        "outputId": "a1c8edad-2f55-4082-ad5f-2bc690977964"
      },
      "execution_count": null,
      "outputs": [
        {
          "output_type": "stream",
          "name": "stdout",
          "text": [
            "Model: \"sequential_7\"\n",
            "_________________________________________________________________\n",
            " Layer (type)                Output Shape              Param #   \n",
            "=================================================================\n",
            " embedding_7 (Embedding)     (None, 200, 32)           320000    \n",
            "                                                                 \n",
            " bidirectional_2 (Bidirecti  (None, 64)                16640     \n",
            " onal)                                                           \n",
            "                                                                 \n",
            " dense_7 (Dense)             (None, 1)                 65        \n",
            "                                                                 \n",
            "=================================================================\n",
            "Total params: 336705 (1.28 MB)\n",
            "Trainable params: 336705 (1.28 MB)\n",
            "Non-trainable params: 0 (0.00 Byte)\n",
            "_________________________________________________________________\n",
            "Epoch 1/10\n",
            "250/250 [==============================] - 68s 253ms/step - loss: 0.5106 - accuracy: 0.7548 - val_loss: 0.3428 - val_accuracy: 0.8635\n",
            "Epoch 2/10\n",
            "250/250 [==============================] - 60s 238ms/step - loss: 0.2764 - accuracy: 0.8957 - val_loss: 0.3124 - val_accuracy: 0.8788\n",
            "Epoch 3/10\n",
            "250/250 [==============================] - 60s 241ms/step - loss: 0.2063 - accuracy: 0.9260 - val_loss: 0.3108 - val_accuracy: 0.8831\n",
            "Epoch 4/10\n",
            "250/250 [==============================] - 57s 227ms/step - loss: 0.1639 - accuracy: 0.9434 - val_loss: 0.3141 - val_accuracy: 0.8805\n",
            "Epoch 5/10\n",
            "250/250 [==============================] - 54s 218ms/step - loss: 0.1349 - accuracy: 0.9559 - val_loss: 0.3828 - val_accuracy: 0.8741\n",
            "Epoch 6/10\n",
            "250/250 [==============================] - 58s 232ms/step - loss: 0.1125 - accuracy: 0.9644 - val_loss: 0.3680 - val_accuracy: 0.8745\n",
            "Epoch 7/10\n",
            "250/250 [==============================] - 62s 249ms/step - loss: 0.1024 - accuracy: 0.9682 - val_loss: 0.3862 - val_accuracy: 0.8480\n",
            "Epoch 8/10\n",
            "250/250 [==============================] - 56s 225ms/step - loss: 0.1018 - accuracy: 0.9676 - val_loss: 0.4267 - val_accuracy: 0.8701\n",
            "Epoch 9/10\n",
            "250/250 [==============================] - 56s 223ms/step - loss: 0.0727 - accuracy: 0.9793 - val_loss: 0.4585 - val_accuracy: 0.8685\n",
            "Epoch 10/10\n",
            "250/250 [==============================] - 55s 221ms/step - loss: 0.0737 - accuracy: 0.9791 - val_loss: 0.4721 - val_accuracy: 0.8649\n",
            "313/313 [==============================] - 12s 35ms/step\n",
            "Confusion Matrix:\n",
            "[[4119  842]\n",
            " [ 481 4558]]\n",
            "\n",
            "Classification Report:\n",
            "              precision    recall  f1-score   support\n",
            "\n",
            "           0       0.90      0.83      0.86      4961\n",
            "           1       0.84      0.90      0.87      5039\n",
            "\n",
            "    accuracy                           0.87     10000\n",
            "   macro avg       0.87      0.87      0.87     10000\n",
            "weighted avg       0.87      0.87      0.87     10000\n",
            "\n"
          ]
        }
      ]
    },
    {
      "cell_type": "markdown",
      "source": [
        "Diminution de performance"
      ],
      "metadata": {
        "id": "hiR7JJ9v2eZc"
      }
    }
  ]
}